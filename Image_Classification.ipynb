{
 "cells": [
  {
   "cell_type": "code",
   "execution_count": 1,
   "metadata": {},
   "outputs": [
    {
     "name": "stderr",
     "output_type": "stream",
     "text": [
      "Using TensorFlow backend.\n"
     ]
    }
   ],
   "source": [
    "import os\n",
    "\n",
    "import numpy as np\n",
    "from PIL import Image\n",
    "from sklearn.model_selection import train_test_split\n",
    "\n",
    "from keras.layers import Dense, Conv2D, MaxPooling2D, Dense, Dropout, Flatten, Input\n",
    "from keras.models import Model, load_model\n",
    "from keras.preprocessing.image import ImageDataGenerator, array_to_img, img_to_array, load_img\n",
    "from keras.losses import categorical_crossentropy\n",
    "from keras.callbacks import ModelCheckpoint\n",
    "from keras.applications.inception_v3 import preprocess_input"
   ]
  },
  {
   "cell_type": "code",
   "execution_count": 2,
   "metadata": {
    "collapsed": true
   },
   "outputs": [],
   "source": [
    "# constants\n",
    "IMG_HEIGHT, IMG_WIDTH = 150, 150\n",
    "STEPS_PER_EPOCH = 50\n",
    "VALIDATION_STEPS = 20\n",
    "EPOCHS = 50\n",
    "\n",
    "DATA_PATH = os.path.join(os.getcwd(),'data')\n",
    "couch_path = os.path.join(DATA_PATH, 'couch') # 2016 couch pictures \n",
    "chair_path = os.path.join(DATA_PATH, 'chair') # 8141 chair pictures\n",
    "\n",
    "couch_pictures = os.listdir(couch_path)\n",
    "chair_pictures = os.listdir(chair_path)"
   ]
  },
  {
   "cell_type": "code",
   "execution_count": 3,
   "metadata": {
    "collapsed": true
   },
   "outputs": [],
   "source": [
    "# train-validation-test split\n",
    "from shutil import copy2\n",
    "\n",
    "def split():\n",
    "    couch_train, couch_val_test = train_test_split(couch_pictures, train_size=0.9, test_size=0.1)\n",
    "    couch_val, couch_test = train_test_split(couch_val_test, train_size=0.5, test_size=0.5)# train:validation:test = 90:5:5\n",
    "    \n",
    "    # trainning data chair:couch = 1:1, val/test data chair:couch = 4:1\n",
    "    chair_train, chair_val_test = train_test_split(chair_pictures, train_size=0.22, test_size=0.1) \n",
    "    chair_val, chair_test = train_test_split(chair_val_test, train_size=0.5, test_size=0.5)\n",
    "    \n",
    "    if not os.path.exists('train'):\n",
    "        os.mkdir('train')\n",
    "        os.mkdir('train/couch')\n",
    "        os.mkdir('train/chair')\n",
    "        for filename in couch_train:\n",
    "            copy2(os.path.join(couch_path, filename), 'train/couch')\n",
    "        for filename in chair_train:\n",
    "            copy2(os.path.join(chair_path, filename), 'train/chair')\n",
    "    \n",
    "    if not os.path.exists('val'):\n",
    "        os.mkdir('val')\n",
    "        os.mkdir('val/couch')\n",
    "        os.mkdir('val/chair')\n",
    "        for filename in couch_val:\n",
    "            copy2(os.path.join(couch_path, filename), 'val/couch')\n",
    "        for filename in chair_val:\n",
    "            copy2(os.path.join(chair_path, filename), 'val/chair')\n",
    "    \n",
    "    if not os.path.exists('test'):\n",
    "        os.mkdir('test')\n",
    "        os.mkdir('test/couch')\n",
    "        os.mkdir('test/chair')\n",
    "        for filename in couch_test:\n",
    "            copy2(os.path.join(couch_path, filename), 'test/couch')\n",
    "        for filename in chair_test:\n",
    "            copy2(os.path.join(chair_path, filename), 'test/chair')\n",
    "\n",
    "if not (os.path.exists('train') or os.path.exists('val') or os.path.exists('test')):\n",
    "    split()\n",
    "    \n",
    "TRAIN_DATA = os.path.join(os.getcwd(),'train')\n",
    "VAL_DATA = os.path.join(os.getcwd(),'val')\n",
    "TEST_DATA = os.path.join(os.getcwd(),'test')"
   ]
  },
  {
   "cell_type": "code",
   "execution_count": 4,
   "metadata": {
    "collapsed": true
   },
   "outputs": [],
   "source": [
    "# data augmentation\n",
    "train_chair_path = os.path.join(TRAIN_DATA, 'chair')\n",
    "train_chairs = os.listdir(train_chair_path)\n",
    "train_couch_path = os.path.join(TRAIN_DATA, 'couch')\n",
    "train_couches = os.listdir(train_couch_path)\n",
    "\n",
    "def augmentation():\n",
    "    generator_factory = ImageDataGenerator(\n",
    "        rotation_range=10, \n",
    "        width_shift_range=0.2,\n",
    "        height_shift_range=0.2,            \n",
    "        shear_range=0.2,\n",
    "        zoom_range=0.2,\n",
    "        horizontal_flip=True,\n",
    "        fill_mode='nearest')\n",
    "    \n",
    "    for filename in train_chairs:\n",
    "        img = load_img(os.path.join(train_chair_path, filename), target_size=(299, 299))\n",
    "        img = np.expand_dims(img, axis=0) \n",
    "        img_generator = generator_factory.flow(img, batch_size=1, save_to_dir=train_chair_path, save_format='png')\n",
    "        for _ in range(3):\n",
    "            sampled_transformed_img = next(img_generator) \n",
    "            sampled_transformed_img = np.squeeze(sampled_transformed_img, axis=0) \n",
    "            \n",
    "    for filename in train_couches:\n",
    "        img = load_img(os.path.join(train_couch_path, filename), target_size=(299, 299))\n",
    "        img = np.expand_dims(img, axis=0) \n",
    "        img_generator = generator_factory.flow(img, batch_size=1, save_to_dir=train_couch_path, save_format='png')\n",
    "        for _ in range(3):\n",
    "            sampled_transformed_img = next(img_generator) \n",
    "            sampled_transformed_img = np.squeeze(sampled_transformed_img, axis=0)\n",
    "\n",
    "if len(train_chairs) < 5000 or len(train_couches) < 5000:\n",
    "    augmentation()"
   ]
  },
  {
   "cell_type": "code",
   "execution_count": 5,
   "metadata": {},
   "outputs": [
    {
     "name": "stdout",
     "output_type": "stream",
     "text": [
      "Found 11943 images belonging to 2 classes.\n",
      "Found 508 images belonging to 2 classes.\n",
      "Found 509 images belonging to 2 classes.\n"
     ]
    }
   ],
   "source": [
    "# Set up generators of datasets\n",
    "\n",
    "def setup_aug_generator(data_dir):\n",
    "    generator_factory = ImageDataGenerator(rotation_range=10, \n",
    "                                           width_shift_range=0.2,\n",
    "                                           height_shift_range=0.2,            \n",
    "                                           shear_range=0.2,\n",
    "                                           zoom_range=0.2,\n",
    "                                           horizontal_flip=True,\n",
    "                                           fill_mode='nearest',\n",
    "                                           preprocessing_function=preprocess_input)\n",
    "    generator = generator_factory.flow_from_directory(data_dir, target_size=(IMG_HEIGHT, IMG_WIDTH))\n",
    "    return generator\n",
    "def setup_generator(data_dir):\n",
    "    generator_factory = ImageDataGenerator(preprocessing_function=preprocess_input)\n",
    "    generator = generator_factory.flow_from_directory(data_dir, target_size=(IMG_HEIGHT, IMG_WIDTH))\n",
    "    return generator\n",
    "\n",
    "train_generator = setup_aug_generator(TRAIN_DATA)\n",
    "val_generator = setup_generator(VAL_DATA)\n",
    "test_generator = setup_generator(TEST_DATA)"
   ]
  },
  {
   "cell_type": "code",
   "execution_count": 6,
   "metadata": {},
   "outputs": [
    {
     "name": "stdout",
     "output_type": "stream",
     "text": [
      "_________________________________________________________________\n",
      "Layer (type)                 Output Shape              Param #   \n",
      "=================================================================\n",
      "input_1 (InputLayer)         (None, 150, 150, 3)       0         \n",
      "_________________________________________________________________\n",
      "conv2d_1 (Conv2D)            (None, 150, 150, 32)      896       \n",
      "_________________________________________________________________\n",
      "conv2d_2 (Conv2D)            (None, 150, 150, 32)      9248      \n",
      "_________________________________________________________________\n",
      "max_pooling2d_1 (MaxPooling2 (None, 75, 75, 32)        0         \n",
      "_________________________________________________________________\n",
      "conv2d_3 (Conv2D)            (None, 75, 75, 32)        9248      \n",
      "_________________________________________________________________\n",
      "conv2d_4 (Conv2D)            (None, 75, 75, 32)        9248      \n",
      "_________________________________________________________________\n",
      "max_pooling2d_2 (MaxPooling2 (None, 37, 37, 32)        0         \n",
      "_________________________________________________________________\n",
      "conv2d_5 (Conv2D)            (None, 37, 37, 32)        9248      \n",
      "_________________________________________________________________\n",
      "conv2d_6 (Conv2D)            (None, 37, 37, 32)        9248      \n",
      "_________________________________________________________________\n",
      "max_pooling2d_3 (MaxPooling2 (None, 18, 18, 32)        0         \n",
      "_________________________________________________________________\n",
      "flatten_1 (Flatten)          (None, 10368)             0         \n",
      "_________________________________________________________________\n",
      "dense_1 (Dense)              (None, 128)               1327232   \n",
      "_________________________________________________________________\n",
      "dropout_1 (Dropout)          (None, 128)               0         \n",
      "_________________________________________________________________\n",
      "dense_2 (Dense)              (None, 2)                 258       \n",
      "=================================================================\n",
      "Total params: 1,374,626\n",
      "Trainable params: 1,374,626\n",
      "Non-trainable params: 0\n",
      "_________________________________________________________________\n"
     ]
    }
   ],
   "source": [
    "# model set-up\n",
    "def setup_convnet():\n",
    "    img = Input(shape=(IMG_HEIGHT, IMG_WIDTH, 3))\n",
    "    \n",
    "    conv1 = Conv2D(32, kernel_size=(3, 3), strides=1, activation='relu', padding='same')(img)\n",
    "    conv2 = Conv2D(32, kernel_size=(3, 3), strides=1, activation='relu', padding='same')(conv1)\n",
    "    pool1 = MaxPooling2D(pool_size=(2, 2), strides=(2, 2))(conv2)\n",
    "    \n",
    "    conv3 = Conv2D(32, kernel_size=(3, 3), strides=1, activation='relu', padding='same')(pool1)\n",
    "    conv4 = Conv2D(32, kernel_size=(3, 3), strides=1, activation='relu', padding='same')(conv3)\n",
    "    pool2 = MaxPooling2D(pool_size=(2, 2), strides=(2, 2))(conv4)\n",
    "    \n",
    "    conv5 = Conv2D(32, kernel_size=(3, 3), strides=1, activation='relu', padding='same')(pool2)\n",
    "    conv6 = Conv2D(32, kernel_size=(3, 3), strides=1, activation='relu', padding='same')(conv5)\n",
    "    pool3 = MaxPooling2D(pool_size=(2, 2), strides=(2, 2))(conv6)\n",
    "    \n",
    "    img_features = Flatten()(pool3)\n",
    "    \n",
    "    dense1 = Dense(128, activation='relu')(img_features)\n",
    "    dropout = Dropout(0.25)(dense1)\n",
    "    \n",
    "    classifier = Dense(2, activation='softmax')(dropout)\n",
    "    \n",
    "    model = Model(inputs=img, outputs=classifier)\n",
    "    return model\n",
    "\n",
    "model = setup_convnet()\n",
    "model.compile(loss=categorical_crossentropy, optimizer='adam', metrics=['accuracy'])\n",
    "model.summary()"
   ]
  },
  {
   "cell_type": "code",
   "execution_count": 7,
   "metadata": {},
   "outputs": [
    {
     "name": "stdout",
     "output_type": "stream",
     "text": [
      "Epoch 1/50\n",
      "50/50 [==============================] - 122s 2s/step - loss: 0.6397 - acc: 0.6525 - val_loss: 0.7085 - val_acc: 0.6069\n",
      "Epoch 2/50\n",
      "50/50 [==============================] - 120s 2s/step - loss: 0.4896 - acc: 0.7659 - val_loss: 0.3383 - val_acc: 0.8286\n",
      "Epoch 3/50\n",
      "50/50 [==============================] - 123s 2s/step - loss: 0.4324 - acc: 0.8013 - val_loss: 0.3695 - val_acc: 0.7940\n",
      "Epoch 4/50\n",
      "50/50 [==============================] - 124s 2s/step - loss: 0.3710 - acc: 0.8312 - val_loss: 0.2981 - val_acc: 0.8270\n",
      "Epoch 5/50\n",
      "50/50 [==============================] - 121s 2s/step - loss: 0.3203 - acc: 0.8588 - val_loss: 0.3554 - val_acc: 0.8019\n",
      "Epoch 6/50\n",
      "50/50 [==============================] - 121s 2s/step - loss: 0.3018 - acc: 0.8594 - val_loss: 0.2435 - val_acc: 0.8318\n",
      "Epoch 7/50\n",
      "50/50 [==============================] - 123s 2s/step - loss: 0.3148 - acc: 0.8563 - val_loss: 0.3181 - val_acc: 0.8113\n",
      "Epoch 8/50\n",
      "50/50 [==============================] - 125s 2s/step - loss: 0.3257 - acc: 0.8506 - val_loss: 0.2915 - val_acc: 0.8019\n",
      "Epoch 9/50\n",
      "50/50 [==============================] - 122s 2s/step - loss: 0.2859 - acc: 0.8825 - val_loss: 0.3386 - val_acc: 0.7909\n",
      "Epoch 10/50\n",
      "50/50 [==============================] - 122s 2s/step - loss: 0.2860 - acc: 0.8756 - val_loss: 0.2285 - val_acc: 0.8270\n",
      "Epoch 11/50\n",
      "50/50 [==============================] - 122s 2s/step - loss: 0.2953 - acc: 0.8731 - val_loss: 0.2997 - val_acc: 0.8160\n",
      "Epoch 12/50\n",
      "50/50 [==============================] - 121s 2s/step - loss: 0.2823 - acc: 0.8850 - val_loss: 0.3238 - val_acc: 0.8113\n",
      "Epoch 13/50\n",
      "50/50 [==============================] - 120s 2s/step - loss: 0.2964 - acc: 0.8656 - val_loss: 0.3591 - val_acc: 0.7736\n",
      "Epoch 14/50\n",
      "50/50 [==============================] - 123s 2s/step - loss: 0.2589 - acc: 0.8844 - val_loss: 0.2337 - val_acc: 0.8774\n",
      "Epoch 15/50\n",
      "50/50 [==============================] - 121s 2s/step - loss: 0.2579 - acc: 0.8868 - val_loss: 0.2812 - val_acc: 0.8160\n",
      "Epoch 16/50\n",
      "50/50 [==============================] - 123s 2s/step - loss: 0.2768 - acc: 0.8656 - val_loss: 0.2148 - val_acc: 0.8789\n",
      "Epoch 17/50\n",
      "50/50 [==============================] - 121s 2s/step - loss: 0.2433 - acc: 0.8838 - val_loss: 0.2530 - val_acc: 0.8333\n",
      "Epoch 18/50\n",
      "50/50 [==============================] - 122s 2s/step - loss: 0.2518 - acc: 0.9025 - val_loss: 0.2373 - val_acc: 0.8585\n",
      "Epoch 19/50\n",
      "50/50 [==============================] - 121s 2s/step - loss: 0.2670 - acc: 0.8756 - val_loss: 0.2225 - val_acc: 0.8852\n",
      "Epoch 20/50\n",
      "50/50 [==============================] - 122s 2s/step - loss: 0.2374 - acc: 0.8994 - val_loss: 0.2179 - val_acc: 0.8947\n",
      "Epoch 21/50\n",
      "50/50 [==============================] - 120s 2s/step - loss: 0.2618 - acc: 0.8840 - val_loss: 0.1931 - val_acc: 0.9057\n",
      "Epoch 22/50\n",
      "50/50 [==============================] - 123s 2s/step - loss: 0.2419 - acc: 0.8975 - val_loss: 0.1689 - val_acc: 0.9403\n",
      "Epoch 23/50\n",
      "50/50 [==============================] - 122s 2s/step - loss: 0.2331 - acc: 0.8994 - val_loss: 0.2267 - val_acc: 0.8616\n",
      "Epoch 24/50\n",
      "50/50 [==============================] - 123s 2s/step - loss: 0.2533 - acc: 0.8988 - val_loss: 0.2524 - val_acc: 0.8585\n",
      "Epoch 25/50\n",
      "50/50 [==============================] - 122s 2s/step - loss: 0.2461 - acc: 0.8844 - val_loss: 0.2029 - val_acc: 0.8962\n",
      "Epoch 26/50\n",
      "50/50 [==============================] - 121s 2s/step - loss: 0.2371 - acc: 0.8947 - val_loss: 0.1883 - val_acc: 0.9072\n",
      "Epoch 27/50\n",
      "50/50 [==============================] - 123s 2s/step - loss: 0.2377 - acc: 0.8944 - val_loss: 0.2548 - val_acc: 0.8836\n",
      "Epoch 28/50\n",
      "50/50 [==============================] - 122s 2s/step - loss: 0.2148 - acc: 0.9100 - val_loss: 0.1969 - val_acc: 0.8978\n",
      "Epoch 29/50\n",
      "50/50 [==============================] - 123s 2s/step - loss: 0.2652 - acc: 0.8787 - val_loss: 0.2261 - val_acc: 0.8805\n",
      "Epoch 30/50\n",
      "50/50 [==============================] - 121s 2s/step - loss: 0.2262 - acc: 0.8988 - val_loss: 0.2975 - val_acc: 0.8302\n",
      "Epoch 31/50\n",
      "50/50 [==============================] - 123s 2s/step - loss: 0.2206 - acc: 0.9031 - val_loss: 0.2420 - val_acc: 0.8648\n",
      "Epoch 32/50\n",
      "50/50 [==============================] - 122s 2s/step - loss: 0.2171 - acc: 0.9100 - val_loss: 0.1679 - val_acc: 0.9245\n",
      "Epoch 33/50\n",
      "50/50 [==============================] - 122s 2s/step - loss: 0.2018 - acc: 0.9100 - val_loss: 0.1730 - val_acc: 0.9198\n",
      "Epoch 34/50\n",
      "50/50 [==============================] - 124s 2s/step - loss: 0.2174 - acc: 0.9012 - val_loss: 0.2418 - val_acc: 0.8585\n",
      "Epoch 35/50\n",
      "50/50 [==============================] - 121s 2s/step - loss: 0.2141 - acc: 0.9056 - val_loss: 0.1551 - val_acc: 0.9324\n",
      "Epoch 36/50\n",
      "50/50 [==============================] - 122s 2s/step - loss: 0.2065 - acc: 0.9156 - val_loss: 0.2161 - val_acc: 0.8742\n",
      "Epoch 37/50\n",
      "50/50 [==============================] - 120s 2s/step - loss: 0.2437 - acc: 0.8987 - val_loss: 0.1812 - val_acc: 0.9135\n",
      "Epoch 38/50\n",
      "50/50 [==============================] - 119s 2s/step - loss: 0.2170 - acc: 0.9050 - val_loss: 0.1703 - val_acc: 0.9245\n",
      "Epoch 39/50\n",
      "50/50 [==============================] - 122s 2s/step - loss: 0.2111 - acc: 0.9100 - val_loss: 0.2654 - val_acc: 0.8679\n",
      "Epoch 40/50\n",
      "50/50 [==============================] - 122s 2s/step - loss: 0.2063 - acc: 0.9131 - val_loss: 0.1803 - val_acc: 0.8994\n",
      "Epoch 41/50\n",
      "50/50 [==============================] - 122s 2s/step - loss: 0.1986 - acc: 0.9100 - val_loss: 0.1561 - val_acc: 0.9292\n",
      "Epoch 42/50\n",
      "50/50 [==============================] - 121s 2s/step - loss: 0.1936 - acc: 0.9175 - val_loss: 0.1612 - val_acc: 0.9198\n",
      "Epoch 43/50\n",
      "50/50 [==============================] - 121s 2s/step - loss: 0.2440 - acc: 0.8969 - val_loss: 0.3100 - val_acc: 0.8428\n",
      "Epoch 44/50\n",
      "50/50 [==============================] - 121s 2s/step - loss: 0.2035 - acc: 0.9125 - val_loss: 0.2124 - val_acc: 0.8868\n",
      "Epoch 45/50\n",
      "50/50 [==============================] - 123s 2s/step - loss: 0.2017 - acc: 0.9113 - val_loss: 0.1824 - val_acc: 0.9135\n",
      "Epoch 46/50\n",
      "50/50 [==============================] - 122s 2s/step - loss: 0.2071 - acc: 0.9062 - val_loss: 0.2104 - val_acc: 0.8868\n",
      "Epoch 47/50\n",
      "50/50 [==============================] - 122s 2s/step - loss: 0.2192 - acc: 0.9081 - val_loss: 0.2035 - val_acc: 0.8852\n",
      "Epoch 48/50\n",
      "50/50 [==============================] - 123s 2s/step - loss: 0.1955 - acc: 0.9106 - val_loss: 0.2454 - val_acc: 0.8616\n",
      "Epoch 49/50\n",
      "50/50 [==============================] - 122s 2s/step - loss: 0.2114 - acc: 0.9056 - val_loss: 0.2006 - val_acc: 0.9104\n",
      "Epoch 50/50\n",
      "50/50 [==============================] - 120s 2s/step - loss: 0.1914 - acc: 0.9237 - val_loss: 0.2139 - val_acc: 0.8868\n"
     ]
    }
   ],
   "source": [
    "train_history = model.fit_generator(train_generator, \n",
    "                                    steps_per_epoch=STEPS_PER_EPOCH,\n",
    "                                    epochs=EPOCHS,\n",
    "                                    callbacks=[ModelCheckpoint('weights.{epoch:02d}-{val_loss:.2f}.hdf5', \n",
    "                                                               monitor='val_loss')],\n",
    "                                    validation_data=val_generator,\n",
    "                                    validation_steps=VALIDATION_STEPS)"
   ]
  },
  {
   "cell_type": "code",
   "execution_count": 8,
   "metadata": {},
   "outputs": [
    {
     "name": "stdout",
     "output_type": "stream",
     "text": [
      "range(1, 51)\n"
     ]
    },
    {
     "data": {
      "image/png": "[encoded data removed]",
      "text/plain": [
       "<matplotlib.figure.Figure at 0x7f5ac346f240>"
      ]
     },
     "metadata": {},
     "output_type": "display_data"
    }
   ],
   "source": [
    "import matplotlib\n",
    "from matplotlib import pyplot as plt\n",
    "%matplotlib inline\n",
    "\n",
    "def plot_train_history(history):\n",
    "    train_loss = history.history['loss']\n",
    "    val_loss = history.history['val_loss']\n",
    "    epoch_labels = range(1, EPOCHS + 1)\n",
    "    print (epoch_labels)\n",
    "    \n",
    "    fig = plt.figure()\n",
    "    ax = fig.add_subplot(221)\n",
    "    ax.set_xticks(epoch_labels)\n",
    "    ax.plot(epoch_labels, train_loss, label='train')\n",
    "    ax.plot(epoch_labels, val_loss, label='validation')\n",
    "    ax.xaxis.set_major_formatter(matplotlib.ticker.FormatStrFormatter('%d'))\n",
    "    ax.legend()\n",
    "    \n",
    "    train_acc = history.history['acc']\n",
    "    val_acc = history.history['val_acc']\n",
    "    \n",
    "    bx = fig.add_subplot(222)\n",
    "    bx.set_xticks(epoch_labels)\n",
    "    bx.plot(epoch_labels, train_acc, label='train')\n",
    "    bx.plot(epoch_labels, val_acc, label='validation')\n",
    "    bx.xaxis.set_major_formatter(matplotlib.ticker.FormatStrFormatter('%d'))\n",
    "    bx.legend()\n",
    "    \n",
    "    plt.show()\n",
    "    \n",
    "plot_train_history(train_history)"
   ]
  },
  {
   "cell_type": "code",
   "execution_count": 9,
   "metadata": {
    "collapsed": true
   },
   "outputs": [],
   "source": [
    "# save model for later use\n",
    "model.save('model.hdf5')"
   ]
  },
  {
   "cell_type": "code",
   "execution_count": 10,
   "metadata": {
    "collapsed": true
   },
   "outputs": [],
   "source": [
    "# load model later on to use it\n",
    "#TRAINED_WEIGHTS_FILENAME = os.path.join(os.getcwd(), 'weights.09-0.23.hdf5')\n",
    "#model = load_model(TRAINED_WEIGHTS_FILENAME)"
   ]
  },
  {
   "cell_type": "code",
   "execution_count": 11,
   "metadata": {},
   "outputs": [
    {
     "name": "stdout",
     "output_type": "stream",
     "text": [
      "['loss', 'acc'] : [0.2164393076142534, 0.88998035492269367]\n",
      "             precision    recall  f1-score   support\n",
      "\n",
      "      chair       0.78      0.67      0.72       408\n",
      "      couch       0.14      0.22      0.17       101\n",
      "\n",
      "avg / total       0.65      0.58      0.61       509\n",
      "\n"
     ]
    }
   ],
   "source": [
    "res = model.evaluate_generator(test_generator)\n",
    "print(model.metrics_names, ':',res)\n",
    "\n",
    "predictions = model.predict_generator(test_generator)\n",
    "predicted_classes = np.argmax(predictions, axis=1)\n",
    "\n",
    "true_classes = test_generator.classes\n",
    "class_labels = list(test_generator.class_indices.keys())\n",
    "\n",
    "from sklearn.metrics import classification_report\n",
    "report = classification_report(true_classes, predicted_classes, target_names=class_labels)\n",
    "print(report)"
   ]
  },
  {
   "cell_type": "code",
   "execution_count": 12,
   "metadata": {
    "collapsed": true
   },
   "outputs": [],
   "source": [
    "new_test_path = os.path.join(os.getcwd(),'new_test')\n",
    "new_pictures = os.listdir(new_test_path)\n",
    "new_prediction = []\n",
    "def prep_data(image):  \n",
    "    X = np.squeeze(image, axis=0)\n",
    "    #X = np.expand_dims(image, axis=3)  # add a color channel to each image\n",
    "    X = X.astype(np.float32)\n",
    "        \n",
    "    X = preprocess_input(X)\n",
    "    img = array_to_img(X)\n",
    "    return np.expand_dims(img, axis=0)\n",
    "    \n",
    "for i in range(len(new_pictures)): # for each file in the new test data, do prediction and save results to a list\n",
    "    img = load_img(os.path.join(new_test_path, new_pictures[i]), target_size = (IMG_HEIGHT, IMG_WIDTH,))\n",
    "    prediction = model.predict(prep_data(img))\n",
    "    new_prediction.append(np.argmax(prediction))"
   ]
  },
  {
   "cell_type": "code",
   "execution_count": 14,
   "metadata": {
    "collapsed": true
   },
   "outputs": [],
   "source": [
    "import pandas as pd\n",
    "result = pd.DataFrame(data={'ID':new_pictures, 'class':new_prediction})\n",
    "result.to_csv('result_bigData.csv')"
   ]
  }
 ],
 "metadata": {
  "kernelspec": {
   "display_name": "Python 3",
   "language": "python",
   "name": "python3"
  },
  "language_info": {
   "codemirror_mode": {
    "name": "ipython",
    "version": 3
   },
   "file_extension": ".py",
   "mimetype": "text/x-python",
   "name": "python",
   "nbconvert_exporter": "python",
   "pygments_lexer": "ipython3",
   "version": "3.6.1"
  }
 },
 "nbformat": 4,
 "nbformat_minor": 2
}
